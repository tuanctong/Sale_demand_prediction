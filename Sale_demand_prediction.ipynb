{
  "cells": [
    {
      "cell_type": "markdown",
      "metadata": {
        "id": "u03Zl9EX4Zef"
      },
      "source": [
        "Import necessary packages"
      ]
    },
    {
      "cell_type": "code",
      "execution_count": 1,
      "metadata": {
        "id": "avakOM5_4FZu"
      },
      "outputs": [],
      "source": [
        "%%capture\n",
        "import pandas as pd\n",
        "import numpy as np\n",
        "import matplotlib.pyplot as plt\n",
        "!pip install pmdarima\n",
        "import pmdarima as pm\n",
        "from statsmodels.tsa.seasonal import seasonal_decompose\n",
        "from statsmodels.tsa.stattools import adfuller"
      ]
    },
    {
      "cell_type": "markdown",
      "metadata": {
        "id": "CnN6lyMV2TpH"
      },
      "source": [
        "# 1. Explore the Dataset"
      ]
    },
    {
      "cell_type": "markdown",
      "metadata": {
        "id": "nWclY4bo4TJn"
      },
      "source": [
        "A glance at the dataset"
      ]
    },
    {
      "cell_type": "code",
      "execution_count": 2,
      "metadata": {
        "colab": {
          "base_uri": "https://localhost:8080/",
          "height": 423
        },
        "id": "rFY-wt7ynt-9",
        "outputId": "92f3e9c4-ea21-4f0f-b8ea-97cb6ed7f6d6"
      },
      "outputs": [
        {
          "output_type": "execute_result",
          "data": {
            "text/plain": [
              "           week  sku  weekly_sales  feat_main_page  color  price  vendor  \\\n",
              "0    2016-10-31    1           135            True  black  10.16       6   \n",
              "1    2016-11-07    1           102            True  black   9.86       6   \n",
              "2    2016-11-14    1           110            True  black  10.24       6   \n",
              "3    2016-11-21    1           127            True  black   8.27       6   \n",
              "4    2016-11-28    1            84            True  black   8.83       6   \n",
              "...         ...  ...           ...             ...    ...    ...     ...   \n",
              "4395 2018-08-27   44            20           False  black  53.99       6   \n",
              "4396 2018-09-03   44            14           False    NaN  52.99       6   \n",
              "4397 2018-09-10   44            22            True  black  44.99       6   \n",
              "4398 2018-09-17   44            28            True    NaN  42.99       6   \n",
              "4399 2018-09-24   44            26            True  black  43.45       6   \n",
              "\n",
              "                    functionality  \n",
              "0     06.Mobile phone accessories  \n",
              "1     06.Mobile phone accessories  \n",
              "2     06.Mobile phone accessories  \n",
              "3     06.Mobile phone accessories  \n",
              "4     06.Mobile phone accessories  \n",
              "...                           ...  \n",
              "4395         09.Smartphone stands  \n",
              "4396         09.Smartphone stands  \n",
              "4397         09.Smartphone stands  \n",
              "4398         09.Smartphone stands  \n",
              "4399         09.Smartphone stands  \n",
              "\n",
              "[4400 rows x 8 columns]"
            ],
            "text/html": [
              "\n",
              "  <div id=\"df-484cacf5-b4e2-4f42-b600-423f8ba96ce7\">\n",
              "    <div class=\"colab-df-container\">\n",
              "      <div>\n",
              "<style scoped>\n",
              "    .dataframe tbody tr th:only-of-type {\n",
              "        vertical-align: middle;\n",
              "    }\n",
              "\n",
              "    .dataframe tbody tr th {\n",
              "        vertical-align: top;\n",
              "    }\n",
              "\n",
              "    .dataframe thead th {\n",
              "        text-align: right;\n",
              "    }\n",
              "</style>\n",
              "<table border=\"1\" class=\"dataframe\">\n",
              "  <thead>\n",
              "    <tr style=\"text-align: right;\">\n",
              "      <th></th>\n",
              "      <th>week</th>\n",
              "      <th>sku</th>\n",
              "      <th>weekly_sales</th>\n",
              "      <th>feat_main_page</th>\n",
              "      <th>color</th>\n",
              "      <th>price</th>\n",
              "      <th>vendor</th>\n",
              "      <th>functionality</th>\n",
              "    </tr>\n",
              "  </thead>\n",
              "  <tbody>\n",
              "    <tr>\n",
              "      <th>0</th>\n",
              "      <td>2016-10-31</td>\n",
              "      <td>1</td>\n",
              "      <td>135</td>\n",
              "      <td>True</td>\n",
              "      <td>black</td>\n",
              "      <td>10.16</td>\n",
              "      <td>6</td>\n",
              "      <td>06.Mobile phone accessories</td>\n",
              "    </tr>\n",
              "    <tr>\n",
              "      <th>1</th>\n",
              "      <td>2016-11-07</td>\n",
              "      <td>1</td>\n",
              "      <td>102</td>\n",
              "      <td>True</td>\n",
              "      <td>black</td>\n",
              "      <td>9.86</td>\n",
              "      <td>6</td>\n",
              "      <td>06.Mobile phone accessories</td>\n",
              "    </tr>\n",
              "    <tr>\n",
              "      <th>2</th>\n",
              "      <td>2016-11-14</td>\n",
              "      <td>1</td>\n",
              "      <td>110</td>\n",
              "      <td>True</td>\n",
              "      <td>black</td>\n",
              "      <td>10.24</td>\n",
              "      <td>6</td>\n",
              "      <td>06.Mobile phone accessories</td>\n",
              "    </tr>\n",
              "    <tr>\n",
              "      <th>3</th>\n",
              "      <td>2016-11-21</td>\n",
              "      <td>1</td>\n",
              "      <td>127</td>\n",
              "      <td>True</td>\n",
              "      <td>black</td>\n",
              "      <td>8.27</td>\n",
              "      <td>6</td>\n",
              "      <td>06.Mobile phone accessories</td>\n",
              "    </tr>\n",
              "    <tr>\n",
              "      <th>4</th>\n",
              "      <td>2016-11-28</td>\n",
              "      <td>1</td>\n",
              "      <td>84</td>\n",
              "      <td>True</td>\n",
              "      <td>black</td>\n",
              "      <td>8.83</td>\n",
              "      <td>6</td>\n",
              "      <td>06.Mobile phone accessories</td>\n",
              "    </tr>\n",
              "    <tr>\n",
              "      <th>...</th>\n",
              "      <td>...</td>\n",
              "      <td>...</td>\n",
              "      <td>...</td>\n",
              "      <td>...</td>\n",
              "      <td>...</td>\n",
              "      <td>...</td>\n",
              "      <td>...</td>\n",
              "      <td>...</td>\n",
              "    </tr>\n",
              "    <tr>\n",
              "      <th>4395</th>\n",
              "      <td>2018-08-27</td>\n",
              "      <td>44</td>\n",
              "      <td>20</td>\n",
              "      <td>False</td>\n",
              "      <td>black</td>\n",
              "      <td>53.99</td>\n",
              "      <td>6</td>\n",
              "      <td>09.Smartphone stands</td>\n",
              "    </tr>\n",
              "    <tr>\n",
              "      <th>4396</th>\n",
              "      <td>2018-09-03</td>\n",
              "      <td>44</td>\n",
              "      <td>14</td>\n",
              "      <td>False</td>\n",
              "      <td>NaN</td>\n",
              "      <td>52.99</td>\n",
              "      <td>6</td>\n",
              "      <td>09.Smartphone stands</td>\n",
              "    </tr>\n",
              "    <tr>\n",
              "      <th>4397</th>\n",
              "      <td>2018-09-10</td>\n",
              "      <td>44</td>\n",
              "      <td>22</td>\n",
              "      <td>True</td>\n",
              "      <td>black</td>\n",
              "      <td>44.99</td>\n",
              "      <td>6</td>\n",
              "      <td>09.Smartphone stands</td>\n",
              "    </tr>\n",
              "    <tr>\n",
              "      <th>4398</th>\n",
              "      <td>2018-09-17</td>\n",
              "      <td>44</td>\n",
              "      <td>28</td>\n",
              "      <td>True</td>\n",
              "      <td>NaN</td>\n",
              "      <td>42.99</td>\n",
              "      <td>6</td>\n",
              "      <td>09.Smartphone stands</td>\n",
              "    </tr>\n",
              "    <tr>\n",
              "      <th>4399</th>\n",
              "      <td>2018-09-24</td>\n",
              "      <td>44</td>\n",
              "      <td>26</td>\n",
              "      <td>True</td>\n",
              "      <td>black</td>\n",
              "      <td>43.45</td>\n",
              "      <td>6</td>\n",
              "      <td>09.Smartphone stands</td>\n",
              "    </tr>\n",
              "  </tbody>\n",
              "</table>\n",
              "<p>4400 rows × 8 columns</p>\n",
              "</div>\n",
              "      <button class=\"colab-df-convert\" onclick=\"convertToInteractive('df-484cacf5-b4e2-4f42-b600-423f8ba96ce7')\"\n",
              "              title=\"Convert this dataframe to an interactive table.\"\n",
              "              style=\"display:none;\">\n",
              "        \n",
              "  <svg xmlns=\"http://www.w3.org/2000/svg\" height=\"24px\"viewBox=\"0 0 24 24\"\n",
              "       width=\"24px\">\n",
              "    <path d=\"M0 0h24v24H0V0z\" fill=\"none\"/>\n",
              "    <path d=\"M18.56 5.44l.94 2.06.94-2.06 2.06-.94-2.06-.94-.94-2.06-.94 2.06-2.06.94zm-11 1L8.5 8.5l.94-2.06 2.06-.94-2.06-.94L8.5 2.5l-.94 2.06-2.06.94zm10 10l.94 2.06.94-2.06 2.06-.94-2.06-.94-.94-2.06-.94 2.06-2.06.94z\"/><path d=\"M17.41 7.96l-1.37-1.37c-.4-.4-.92-.59-1.43-.59-.52 0-1.04.2-1.43.59L10.3 9.45l-7.72 7.72c-.78.78-.78 2.05 0 2.83L4 21.41c.39.39.9.59 1.41.59.51 0 1.02-.2 1.41-.59l7.78-7.78 2.81-2.81c.8-.78.8-2.07 0-2.86zM5.41 20L4 18.59l7.72-7.72 1.47 1.35L5.41 20z\"/>\n",
              "  </svg>\n",
              "      </button>\n",
              "      \n",
              "  <style>\n",
              "    .colab-df-container {\n",
              "      display:flex;\n",
              "      flex-wrap:wrap;\n",
              "      gap: 12px;\n",
              "    }\n",
              "\n",
              "    .colab-df-convert {\n",
              "      background-color: #E8F0FE;\n",
              "      border: none;\n",
              "      border-radius: 50%;\n",
              "      cursor: pointer;\n",
              "      display: none;\n",
              "      fill: #1967D2;\n",
              "      height: 32px;\n",
              "      padding: 0 0 0 0;\n",
              "      width: 32px;\n",
              "    }\n",
              "\n",
              "    .colab-df-convert:hover {\n",
              "      background-color: #E2EBFA;\n",
              "      box-shadow: 0px 1px 2px rgba(60, 64, 67, 0.3), 0px 1px 3px 1px rgba(60, 64, 67, 0.15);\n",
              "      fill: #174EA6;\n",
              "    }\n",
              "\n",
              "    [theme=dark] .colab-df-convert {\n",
              "      background-color: #3B4455;\n",
              "      fill: #D2E3FC;\n",
              "    }\n",
              "\n",
              "    [theme=dark] .colab-df-convert:hover {\n",
              "      background-color: #434B5C;\n",
              "      box-shadow: 0px 1px 3px 1px rgba(0, 0, 0, 0.15);\n",
              "      filter: drop-shadow(0px 1px 2px rgba(0, 0, 0, 0.3));\n",
              "      fill: #FFFFFF;\n",
              "    }\n",
              "  </style>\n",
              "\n",
              "      <script>\n",
              "        const buttonEl =\n",
              "          document.querySelector('#df-484cacf5-b4e2-4f42-b600-423f8ba96ce7 button.colab-df-convert');\n",
              "        buttonEl.style.display =\n",
              "          google.colab.kernel.accessAllowed ? 'block' : 'none';\n",
              "\n",
              "        async function convertToInteractive(key) {\n",
              "          const element = document.querySelector('#df-484cacf5-b4e2-4f42-b600-423f8ba96ce7');\n",
              "          const dataTable =\n",
              "            await google.colab.kernel.invokeFunction('convertToInteractive',\n",
              "                                                     [key], {});\n",
              "          if (!dataTable) return;\n",
              "\n",
              "          const docLinkHtml = 'Like what you see? Visit the ' +\n",
              "            '<a target=\"_blank\" href=https://colab.research.google.com/notebooks/data_table.ipynb>data table notebook</a>'\n",
              "            + ' to learn more about interactive tables.';\n",
              "          element.innerHTML = '';\n",
              "          dataTable['output_type'] = 'display_data';\n",
              "          await google.colab.output.renderOutput(dataTable, element);\n",
              "          const docLink = document.createElement('div');\n",
              "          docLink.innerHTML = docLinkHtml;\n",
              "          element.appendChild(docLink);\n",
              "        }\n",
              "      </script>\n",
              "    </div>\n",
              "  </div>\n",
              "  "
            ]
          },
          "metadata": {},
          "execution_count": 2
        }
      ],
      "source": [
        "data_raw=pd.read_csv(\"data_raw.csv\", parse_dates=['week'])\n",
        "data_raw"
      ]
    },
    {
      "cell_type": "code",
      "execution_count": 3,
      "metadata": {
        "colab": {
          "base_uri": "https://localhost:8080/"
        },
        "id": "6tifb6AW2QJU",
        "outputId": "36a45be1-2902-43d6-c031-1f00124c684b"
      },
      "outputs": [
        {
          "output_type": "stream",
          "name": "stdout",
          "text": [
            "<class 'pandas.core.frame.DataFrame'>\n",
            "RangeIndex: 4400 entries, 0 to 4399\n",
            "Data columns (total 8 columns):\n",
            " #   Column          Non-Null Count  Dtype         \n",
            "---  ------          --------------  -----         \n",
            " 0   week            4400 non-null   datetime64[ns]\n",
            " 1   sku             4400 non-null   int64         \n",
            " 2   weekly_sales    4400 non-null   int64         \n",
            " 3   feat_main_page  4400 non-null   bool          \n",
            " 4   color           4390 non-null   object        \n",
            " 5   price           4400 non-null   float64       \n",
            " 6   vendor          4400 non-null   int64         \n",
            " 7   functionality   4400 non-null   object        \n",
            "dtypes: bool(1), datetime64[ns](1), float64(1), int64(3), object(2)\n",
            "memory usage: 245.0+ KB\n"
          ]
        }
      ],
      "source": [
        "data_raw.info()"
      ]
    },
    {
      "cell_type": "markdown",
      "metadata": {
        "id": "dc0FDHxE4m0s"
      },
      "source": [
        "There are 10 missing values in the color column"
      ]
    },
    {
      "cell_type": "markdown",
      "metadata": {
        "id": "O5ENlcr6_yhu"
      },
      "source": [
        "A rough statistical view for the data"
      ]
    },
    {
      "cell_type": "code",
      "execution_count": 4,
      "metadata": {
        "colab": {
          "base_uri": "https://localhost:8080/",
          "height": 300
        },
        "id": "1aTESOpV56Bw",
        "outputId": "320006f8-4e78-4787-8120-3e53d3bc51be"
      },
      "outputs": [
        {
          "output_type": "execute_result",
          "data": {
            "text/plain": [
              "               sku  weekly_sales        price       vendor\n",
              "count  4400.000000   4400.000000  4400.000000  4400.000000\n",
              "mean     22.500000     83.054773    44.432709     6.909091\n",
              "std      12.699868    288.000205    42.500295     2.503175\n",
              "min       1.000000      0.000000     2.390000     1.000000\n",
              "25%      11.750000     11.000000    15.680000     6.000000\n",
              "50%      22.500000     25.000000    27.550000     6.500000\n",
              "75%      33.250000     70.000000    54.990000     9.000000\n",
              "max      44.000000   7512.000000   227.720000    10.000000"
            ],
            "text/html": [
              "\n",
              "  <div id=\"df-ce5566fd-084e-498b-9533-021bdaca47ab\">\n",
              "    <div class=\"colab-df-container\">\n",
              "      <div>\n",
              "<style scoped>\n",
              "    .dataframe tbody tr th:only-of-type {\n",
              "        vertical-align: middle;\n",
              "    }\n",
              "\n",
              "    .dataframe tbody tr th {\n",
              "        vertical-align: top;\n",
              "    }\n",
              "\n",
              "    .dataframe thead th {\n",
              "        text-align: right;\n",
              "    }\n",
              "</style>\n",
              "<table border=\"1\" class=\"dataframe\">\n",
              "  <thead>\n",
              "    <tr style=\"text-align: right;\">\n",
              "      <th></th>\n",
              "      <th>sku</th>\n",
              "      <th>weekly_sales</th>\n",
              "      <th>price</th>\n",
              "      <th>vendor</th>\n",
              "    </tr>\n",
              "  </thead>\n",
              "  <tbody>\n",
              "    <tr>\n",
              "      <th>count</th>\n",
              "      <td>4400.000000</td>\n",
              "      <td>4400.000000</td>\n",
              "      <td>4400.000000</td>\n",
              "      <td>4400.000000</td>\n",
              "    </tr>\n",
              "    <tr>\n",
              "      <th>mean</th>\n",
              "      <td>22.500000</td>\n",
              "      <td>83.054773</td>\n",
              "      <td>44.432709</td>\n",
              "      <td>6.909091</td>\n",
              "    </tr>\n",
              "    <tr>\n",
              "      <th>std</th>\n",
              "      <td>12.699868</td>\n",
              "      <td>288.000205</td>\n",
              "      <td>42.500295</td>\n",
              "      <td>2.503175</td>\n",
              "    </tr>\n",
              "    <tr>\n",
              "      <th>min</th>\n",
              "      <td>1.000000</td>\n",
              "      <td>0.000000</td>\n",
              "      <td>2.390000</td>\n",
              "      <td>1.000000</td>\n",
              "    </tr>\n",
              "    <tr>\n",
              "      <th>25%</th>\n",
              "      <td>11.750000</td>\n",
              "      <td>11.000000</td>\n",
              "      <td>15.680000</td>\n",
              "      <td>6.000000</td>\n",
              "    </tr>\n",
              "    <tr>\n",
              "      <th>50%</th>\n",
              "      <td>22.500000</td>\n",
              "      <td>25.000000</td>\n",
              "      <td>27.550000</td>\n",
              "      <td>6.500000</td>\n",
              "    </tr>\n",
              "    <tr>\n",
              "      <th>75%</th>\n",
              "      <td>33.250000</td>\n",
              "      <td>70.000000</td>\n",
              "      <td>54.990000</td>\n",
              "      <td>9.000000</td>\n",
              "    </tr>\n",
              "    <tr>\n",
              "      <th>max</th>\n",
              "      <td>44.000000</td>\n",
              "      <td>7512.000000</td>\n",
              "      <td>227.720000</td>\n",
              "      <td>10.000000</td>\n",
              "    </tr>\n",
              "  </tbody>\n",
              "</table>\n",
              "</div>\n",
              "      <button class=\"colab-df-convert\" onclick=\"convertToInteractive('df-ce5566fd-084e-498b-9533-021bdaca47ab')\"\n",
              "              title=\"Convert this dataframe to an interactive table.\"\n",
              "              style=\"display:none;\">\n",
              "        \n",
              "  <svg xmlns=\"http://www.w3.org/2000/svg\" height=\"24px\"viewBox=\"0 0 24 24\"\n",
              "       width=\"24px\">\n",
              "    <path d=\"M0 0h24v24H0V0z\" fill=\"none\"/>\n",
              "    <path d=\"M18.56 5.44l.94 2.06.94-2.06 2.06-.94-2.06-.94-.94-2.06-.94 2.06-2.06.94zm-11 1L8.5 8.5l.94-2.06 2.06-.94-2.06-.94L8.5 2.5l-.94 2.06-2.06.94zm10 10l.94 2.06.94-2.06 2.06-.94-2.06-.94-.94-2.06-.94 2.06-2.06.94z\"/><path d=\"M17.41 7.96l-1.37-1.37c-.4-.4-.92-.59-1.43-.59-.52 0-1.04.2-1.43.59L10.3 9.45l-7.72 7.72c-.78.78-.78 2.05 0 2.83L4 21.41c.39.39.9.59 1.41.59.51 0 1.02-.2 1.41-.59l7.78-7.78 2.81-2.81c.8-.78.8-2.07 0-2.86zM5.41 20L4 18.59l7.72-7.72 1.47 1.35L5.41 20z\"/>\n",
              "  </svg>\n",
              "      </button>\n",
              "      \n",
              "  <style>\n",
              "    .colab-df-container {\n",
              "      display:flex;\n",
              "      flex-wrap:wrap;\n",
              "      gap: 12px;\n",
              "    }\n",
              "\n",
              "    .colab-df-convert {\n",
              "      background-color: #E8F0FE;\n",
              "      border: none;\n",
              "      border-radius: 50%;\n",
              "      cursor: pointer;\n",
              "      display: none;\n",
              "      fill: #1967D2;\n",
              "      height: 32px;\n",
              "      padding: 0 0 0 0;\n",
              "      width: 32px;\n",
              "    }\n",
              "\n",
              "    .colab-df-convert:hover {\n",
              "      background-color: #E2EBFA;\n",
              "      box-shadow: 0px 1px 2px rgba(60, 64, 67, 0.3), 0px 1px 3px 1px rgba(60, 64, 67, 0.15);\n",
              "      fill: #174EA6;\n",
              "    }\n",
              "\n",
              "    [theme=dark] .colab-df-convert {\n",
              "      background-color: #3B4455;\n",
              "      fill: #D2E3FC;\n",
              "    }\n",
              "\n",
              "    [theme=dark] .colab-df-convert:hover {\n",
              "      background-color: #434B5C;\n",
              "      box-shadow: 0px 1px 3px 1px rgba(0, 0, 0, 0.15);\n",
              "      filter: drop-shadow(0px 1px 2px rgba(0, 0, 0, 0.3));\n",
              "      fill: #FFFFFF;\n",
              "    }\n",
              "  </style>\n",
              "\n",
              "      <script>\n",
              "        const buttonEl =\n",
              "          document.querySelector('#df-ce5566fd-084e-498b-9533-021bdaca47ab button.colab-df-convert');\n",
              "        buttonEl.style.display =\n",
              "          google.colab.kernel.accessAllowed ? 'block' : 'none';\n",
              "\n",
              "        async function convertToInteractive(key) {\n",
              "          const element = document.querySelector('#df-ce5566fd-084e-498b-9533-021bdaca47ab');\n",
              "          const dataTable =\n",
              "            await google.colab.kernel.invokeFunction('convertToInteractive',\n",
              "                                                     [key], {});\n",
              "          if (!dataTable) return;\n",
              "\n",
              "          const docLinkHtml = 'Like what you see? Visit the ' +\n",
              "            '<a target=\"_blank\" href=https://colab.research.google.com/notebooks/data_table.ipynb>data table notebook</a>'\n",
              "            + ' to learn more about interactive tables.';\n",
              "          element.innerHTML = '';\n",
              "          dataTable['output_type'] = 'display_data';\n",
              "          await google.colab.output.renderOutput(dataTable, element);\n",
              "          const docLink = document.createElement('div');\n",
              "          docLink.innerHTML = docLinkHtml;\n",
              "          element.appendChild(docLink);\n",
              "        }\n",
              "      </script>\n",
              "    </div>\n",
              "  </div>\n",
              "  "
            ]
          },
          "metadata": {},
          "execution_count": 4
        }
      ],
      "source": [
        "data_raw.describe()"
      ]
    },
    {
      "cell_type": "markdown",
      "metadata": {
        "id": "8tjGLhB_6oR_"
      },
      "source": [
        "There are big gaps between mean and max for weekly_sales and price, it suggests that there are some outliers"
      ]
    },
    {
      "cell_type": "markdown",
      "metadata": {
        "id": "lZVOPCwkqSQR"
      },
      "source": [
        "A line chart for SKU 11"
      ]
    },
    {
      "cell_type": "code",
      "execution_count": 5,
      "metadata": {
        "colab": {
          "base_uri": "https://localhost:8080/",
          "height": 368
        },
        "id": "dF5iAMKhQnKz",
        "outputId": "0e38e3e8-7cc9-47ab-a15c-b5d89cb957ba"
      },
      "outputs": [
        {
          "output_type": "display_data",
          "data": {
            "text/plain": [
              "<Figure size 720x360 with 1 Axes>"
            ],
            "image/png": "[encoded data removed]"
          },
          "metadata": {
            "needs_background": "light"
          }
        }
      ],
      "source": [
        "plt.figure(figsize=(10,5))\n",
        "plt.plot(data_raw[data_raw['sku']==11]['week'],data_raw[data_raw['sku']==11]['weekly_sales'])\n",
        "plt.ylabel('sales', fontsize=20)\n",
        "plt.xlabel('time', fontsize=20)\n",
        "plt.title(\"Weekly sales for SKU 11\", fontsize=25)\n",
        "plt.show()"
      ]
    },
    {
      "cell_type": "markdown",
      "metadata": {
        "id": "7w8nvGcF752r"
      },
      "source": [
        "#2. Data Processing\n",
        "##2.1 Missing Data"
      ]
    },
    {
      "cell_type": "code",
      "execution_count": 6,
      "metadata": {
        "colab": {
          "base_uri": "https://localhost:8080/",
          "height": 363
        },
        "id": "nVIVvoN_AKr8",
        "outputId": "c2a57fb5-f581-480d-9990-e2b8a2fac17d"
      },
      "outputs": [
        {
          "output_type": "execute_result",
          "data": {
            "text/plain": [
              "           week  sku  weekly_sales  feat_main_page color   price  vendor  \\\n",
              "802  2016-11-14    9            54            True   NaN  139.44       9   \n",
              "803  2016-11-21    9            71            True   NaN  141.16       9   \n",
              "4133 2017-06-19   42             4           False   NaN   27.33      10   \n",
              "4196 2018-09-03   42             8           False   NaN   42.99      10   \n",
              "4197 2018-09-10   42            14            True   NaN   42.99      10   \n",
              "4200 2016-10-31   43             5            True   NaN  109.99       9   \n",
              "4314 2017-02-06   44             5           False   NaN   53.99       6   \n",
              "4391 2018-07-30   44            34            True   NaN   41.99       6   \n",
              "4396 2018-09-03   44            14           False   NaN   52.99       6   \n",
              "4398 2018-09-17   44            28            True   NaN   42.99       6   \n",
              "\n",
              "             functionality  \n",
              "802    11.Fitness trackers  \n",
              "803    11.Fitness trackers  \n",
              "4133  09.Smartphone stands  \n",
              "4196  09.Smartphone stands  \n",
              "4197  09.Smartphone stands  \n",
              "4200   11.Fitness trackers  \n",
              "4314  09.Smartphone stands  \n",
              "4391  09.Smartphone stands  \n",
              "4396  09.Smartphone stands  \n",
              "4398  09.Smartphone stands  "
            ],
            "text/html": [
              "\n",
              "  <div id=\"df-40ac23ae-f19c-4f42-8b67-6660c1bf39da\">\n",
              "    <div class=\"colab-df-container\">\n",
              "      <div>\n",
              "<style scoped>\n",
              "    .dataframe tbody tr th:only-of-type {\n",
              "        vertical-align: middle;\n",
              "    }\n",
              "\n",
              "    .dataframe tbody tr th {\n",
              "        vertical-align: top;\n",
              "    }\n",
              "\n",
              "    .dataframe thead th {\n",
              "        text-align: right;\n",
              "    }\n",
              "</style>\n",
              "<table border=\"1\" class=\"dataframe\">\n",
              "  <thead>\n",
              "    <tr style=\"text-align: right;\">\n",
              "      <th></th>\n",
              "      <th>week</th>\n",
              "      <th>sku</th>\n",
              "      <th>weekly_sales</th>\n",
              "      <th>feat_main_page</th>\n",
              "      <th>color</th>\n",
              "      <th>price</th>\n",
              "      <th>vendor</th>\n",
              "      <th>functionality</th>\n",
              "    </tr>\n",
              "  </thead>\n",
              "  <tbody>\n",
              "    <tr>\n",
              "      <th>802</th>\n",
              "      <td>2016-11-14</td>\n",
              "      <td>9</td>\n",
              "      <td>54</td>\n",
              "      <td>True</td>\n",
              "      <td>NaN</td>\n",
              "      <td>139.44</td>\n",
              "      <td>9</td>\n",
              "      <td>11.Fitness trackers</td>\n",
              "    </tr>\n",
              "    <tr>\n",
              "      <th>803</th>\n",
              "      <td>2016-11-21</td>\n",
              "      <td>9</td>\n",
              "      <td>71</td>\n",
              "      <td>True</td>\n",
              "      <td>NaN</td>\n",
              "      <td>141.16</td>\n",
              "      <td>9</td>\n",
              "      <td>11.Fitness trackers</td>\n",
              "    </tr>\n",
              "    <tr>\n",
              "      <th>4133</th>\n",
              "      <td>2017-06-19</td>\n",
              "      <td>42</td>\n",
              "      <td>4</td>\n",
              "      <td>False</td>\n",
              "      <td>NaN</td>\n",
              "      <td>27.33</td>\n",
              "      <td>10</td>\n",
              "      <td>09.Smartphone stands</td>\n",
              "    </tr>\n",
              "    <tr>\n",
              "      <th>4196</th>\n",
              "      <td>2018-09-03</td>\n",
              "      <td>42</td>\n",
              "      <td>8</td>\n",
              "      <td>False</td>\n",
              "      <td>NaN</td>\n",
              "      <td>42.99</td>\n",
              "      <td>10</td>\n",
              "      <td>09.Smartphone stands</td>\n",
              "    </tr>\n",
              "    <tr>\n",
              "      <th>4197</th>\n",
              "      <td>2018-09-10</td>\n",
              "      <td>42</td>\n",
              "      <td>14</td>\n",
              "      <td>True</td>\n",
              "      <td>NaN</td>\n",
              "      <td>42.99</td>\n",
              "      <td>10</td>\n",
              "      <td>09.Smartphone stands</td>\n",
              "    </tr>\n",
              "    <tr>\n",
              "      <th>4200</th>\n",
              "      <td>2016-10-31</td>\n",
              "      <td>43</td>\n",
              "      <td>5</td>\n",
              "      <td>True</td>\n",
              "      <td>NaN</td>\n",
              "      <td>109.99</td>\n",
              "      <td>9</td>\n",
              "      <td>11.Fitness trackers</td>\n",
              "    </tr>\n",
              "    <tr>\n",
              "      <th>4314</th>\n",
              "      <td>2017-02-06</td>\n",
              "      <td>44</td>\n",
              "      <td>5</td>\n",
              "      <td>False</td>\n",
              "      <td>NaN</td>\n",
              "      <td>53.99</td>\n",
              "      <td>6</td>\n",
              "      <td>09.Smartphone stands</td>\n",
              "    </tr>\n",
              "    <tr>\n",
              "      <th>4391</th>\n",
              "      <td>2018-07-30</td>\n",
              "      <td>44</td>\n",
              "      <td>34</td>\n",
              "      <td>True</td>\n",
              "      <td>NaN</td>\n",
              "      <td>41.99</td>\n",
              "      <td>6</td>\n",
              "      <td>09.Smartphone stands</td>\n",
              "    </tr>\n",
              "    <tr>\n",
              "      <th>4396</th>\n",
              "      <td>2018-09-03</td>\n",
              "      <td>44</td>\n",
              "      <td>14</td>\n",
              "      <td>False</td>\n",
              "      <td>NaN</td>\n",
              "      <td>52.99</td>\n",
              "      <td>6</td>\n",
              "      <td>09.Smartphone stands</td>\n",
              "    </tr>\n",
              "    <tr>\n",
              "      <th>4398</th>\n",
              "      <td>2018-09-17</td>\n",
              "      <td>44</td>\n",
              "      <td>28</td>\n",
              "      <td>True</td>\n",
              "      <td>NaN</td>\n",
              "      <td>42.99</td>\n",
              "      <td>6</td>\n",
              "      <td>09.Smartphone stands</td>\n",
              "    </tr>\n",
              "  </tbody>\n",
              "</table>\n",
              "</div>\n",
              "      <button class=\"colab-df-convert\" onclick=\"convertToInteractive('df-40ac23ae-f19c-4f42-8b67-6660c1bf39da')\"\n",
              "              title=\"Convert this dataframe to an interactive table.\"\n",
              "              style=\"display:none;\">\n",
              "        \n",
              "  <svg xmlns=\"http://www.w3.org/2000/svg\" height=\"24px\"viewBox=\"0 0 24 24\"\n",
              "       width=\"24px\">\n",
              "    <path d=\"M0 0h24v24H0V0z\" fill=\"none\"/>\n",
              "    <path d=\"M18.56 5.44l.94 2.06.94-2.06 2.06-.94-2.06-.94-.94-2.06-.94 2.06-2.06.94zm-11 1L8.5 8.5l.94-2.06 2.06-.94-2.06-.94L8.5 2.5l-.94 2.06-2.06.94zm10 10l.94 2.06.94-2.06 2.06-.94-2.06-.94-.94-2.06-.94 2.06-2.06.94z\"/><path d=\"M17.41 7.96l-1.37-1.37c-.4-.4-.92-.59-1.43-.59-.52 0-1.04.2-1.43.59L10.3 9.45l-7.72 7.72c-.78.78-.78 2.05 0 2.83L4 21.41c.39.39.9.59 1.41.59.51 0 1.02-.2 1.41-.59l7.78-7.78 2.81-2.81c.8-.78.8-2.07 0-2.86zM5.41 20L4 18.59l7.72-7.72 1.47 1.35L5.41 20z\"/>\n",
              "  </svg>\n",
              "      </button>\n",
              "      \n",
              "  <style>\n",
              "    .colab-df-container {\n",
              "      display:flex;\n",
              "      flex-wrap:wrap;\n",
              "      gap: 12px;\n",
              "    }\n",
              "\n",
              "    .colab-df-convert {\n",
              "      background-color: #E8F0FE;\n",
              "      border: none;\n",
              "      border-radius: 50%;\n",
              "      cursor: pointer;\n",
              "      display: none;\n",
              "      fill: #1967D2;\n",
              "      height: 32px;\n",
              "      padding: 0 0 0 0;\n",
              "      width: 32px;\n",
              "    }\n",
              "\n",
              "    .colab-df-convert:hover {\n",
              "      background-color: #E2EBFA;\n",
              "      box-shadow: 0px 1px 2px rgba(60, 64, 67, 0.3), 0px 1px 3px 1px rgba(60, 64, 67, 0.15);\n",
              "      fill: #174EA6;\n",
              "    }\n",
              "\n",
              "    [theme=dark] .colab-df-convert {\n",
              "      background-color: #3B4455;\n",
              "      fill: #D2E3FC;\n",
              "    }\n",
              "\n",
              "    [theme=dark] .colab-df-convert:hover {\n",
              "      background-color: #434B5C;\n",
              "      box-shadow: 0px 1px 3px 1px rgba(0, 0, 0, 0.15);\n",
              "      filter: drop-shadow(0px 1px 2px rgba(0, 0, 0, 0.3));\n",
              "      fill: #FFFFFF;\n",
              "    }\n",
              "  </style>\n",
              "\n",
              "      <script>\n",
              "        const buttonEl =\n",
              "          document.querySelector('#df-40ac23ae-f19c-4f42-8b67-6660c1bf39da button.colab-df-convert');\n",
              "        buttonEl.style.display =\n",
              "          google.colab.kernel.accessAllowed ? 'block' : 'none';\n",
              "\n",
              "        async function convertToInteractive(key) {\n",
              "          const element = document.querySelector('#df-40ac23ae-f19c-4f42-8b67-6660c1bf39da');\n",
              "          const dataTable =\n",
              "            await google.colab.kernel.invokeFunction('convertToInteractive',\n",
              "                                                     [key], {});\n",
              "          if (!dataTable) return;\n",
              "\n",
              "          const docLinkHtml = 'Like what you see? Visit the ' +\n",
              "            '<a target=\"_blank\" href=https://colab.research.google.com/notebooks/data_table.ipynb>data table notebook</a>'\n",
              "            + ' to learn more about interactive tables.';\n",
              "          element.innerHTML = '';\n",
              "          dataTable['output_type'] = 'display_data';\n",
              "          await google.colab.output.renderOutput(dataTable, element);\n",
              "          const docLink = document.createElement('div');\n",
              "          docLink.innerHTML = docLinkHtml;\n",
              "          element.appendChild(docLink);\n",
              "        }\n",
              "      </script>\n",
              "    </div>\n",
              "  </div>\n",
              "  "
            ]
          },
          "metadata": {},
          "execution_count": 6
        }
      ],
      "source": [
        "data_raw[data_raw.color.isna()]"
      ]
    },
    {
      "cell_type": "markdown",
      "metadata": {
        "id": "PVoQ-cOOB0rM"
      },
      "source": [
        "Filling method: Use the color sold in the next week or the previous week for the same sku to fill for the missing values. This method assumes that the color for each sku in a near period of time is the same"
      ]
    },
    {
      "cell_type": "code",
      "execution_count": 7,
      "metadata": {
        "colab": {
          "base_uri": "https://localhost:8080/"
        },
        "id": "SAOL_QcYEsh6",
        "outputId": "503305be-192f-4e24-b23c-9decb0c34fe1"
      },
      "outputs": [
        {
          "output_type": "stream",
          "name": "stdout",
          "text": [
            "week: 802, sku: 9, color: black\n",
            "week: 803, sku: 9, color: black\n",
            "week: 4133, sku: 42, color: black\n",
            "week: 4196, sku: 42, color: black\n",
            "week: 4197, sku: 42, color: black\n",
            "week: 4200, sku: 43, color: gold\n",
            "week: 4314, sku: 44, color: black\n",
            "week: 4391, sku: 44, color: black\n",
            "week: 4396, sku: 44, color: black\n",
            "week: 4398, sku: 44, color: black\n"
          ]
        }
      ],
      "source": [
        "for i in data_raw[data_raw.color.isna()].index:\n",
        "    if data_raw.at[i, 'sku'] == data_raw.at[i-1, 'sku']:\n",
        "        data_raw.at[i, 'color'] = data_raw.at[i-1, 'color']\n",
        "        print(\"week: {}, sku: {}, color: {}\".format(i, data_raw.at[i, 'sku'],data_raw.at[i, 'color']))\n",
        "    else:\n",
        "        if data_raw.at[i, 'sku'] == data_raw.at[i+1, 'sku']:\n",
        "            data_raw.at[i, 'color'] = data_raw.at[i+1, 'color']\n",
        "            print(\"week: {}, sku: {}, color: {}\".format(i, data_raw.at[i, 'sku'],data_raw.at[i, 'color']))"
      ]
    },
    {
      "cell_type": "markdown",
      "metadata": {
        "id": "quX0yE7g9z9w"
      },
      "source": [
        "## 2.2 Outlier Data"
      ]
    },
    {
      "cell_type": "markdown",
      "metadata": {
        "id": "w3cXu7zxFZfu"
      },
      "source": [
        "Use quantile with the low_cutoff and high_cutoff to identify the outliers. The cutoff values can be customized"
      ]
    },
    {
      "cell_type": "code",
      "execution_count": 8,
      "metadata": {
        "id": "WNe8WIyvXX59",
        "colab": {
          "base_uri": "https://localhost:8080/",
          "height": 661
        },
        "outputId": "ec2d37db-fac4-429c-b44b-b7d0b40c2061"
      },
      "outputs": [
        {
          "output_type": "execute_result",
          "data": {
            "text/plain": [
              "           week  sku  weekly_sales  feat_main_page   color   price  vendor  \\\n",
              "9    2017-01-02    1           154            True   black    9.19       6   \n",
              "171  2018-03-12    2            52           False    blue   63.99       1   \n",
              "202  2016-11-14    3            38           False  purple   73.02       1   \n",
              "252  2017-10-30    3             2           False  purple  109.99       1   \n",
              "300  2016-10-31    4            28           False     red   13.20       6   \n",
              "...         ...  ...           ...             ...     ...     ...     ...   \n",
              "4044 2017-09-04   41             8           False   black   15.84       5   \n",
              "4137 2017-07-17   42            23            True   black   31.99      10   \n",
              "4268 2018-02-19   43            31            True    gold  119.99       9   \n",
              "4293 2018-08-13   43             0            True    gold  162.99       9   \n",
              "4393 2018-08-13   44            52            True   black   43.99       6   \n",
              "\n",
              "                    functionality  outlier_weekly_sales  outlier_price  \n",
              "9     06.Mobile phone accessories                  True          False  \n",
              "171                 07.Headphones                  True          False  \n",
              "202                 07.Headphones                  True          False  \n",
              "252                 07.Headphones                  True          False  \n",
              "300   06.Mobile phone accessories                  True          False  \n",
              "...                           ...                   ...            ...  \n",
              "4044         09.Smartphone stands                  True          False  \n",
              "4137         09.Smartphone stands                  True          False  \n",
              "4268          11.Fitness trackers                  True          False  \n",
              "4293          11.Fitness trackers                  True          False  \n",
              "4393         09.Smartphone stands                  True          False  \n",
              "\n",
              "[75 rows x 10 columns]"
            ],
            "text/html": [
              "\n",
              "  <div id=\"df-1f9d8e59-6397-40dd-9bf8-e7b4f638283b\">\n",
              "    <div class=\"colab-df-container\">\n",
              "      <div>\n",
              "<style scoped>\n",
              "    .dataframe tbody tr th:only-of-type {\n",
              "        vertical-align: middle;\n",
              "    }\n",
              "\n",
              "    .dataframe tbody tr th {\n",
              "        vertical-align: top;\n",
              "    }\n",
              "\n",
              "    .dataframe thead th {\n",
              "        text-align: right;\n",
              "    }\n",
              "</style>\n",
              "<table border=\"1\" class=\"dataframe\">\n",
              "  <thead>\n",
              "    <tr style=\"text-align: right;\">\n",
              "      <th></th>\n",
              "      <th>week</th>\n",
              "      <th>sku</th>\n",
              "      <th>weekly_sales</th>\n",
              "      <th>feat_main_page</th>\n",
              "      <th>color</th>\n",
              "      <th>price</th>\n",
              "      <th>vendor</th>\n",
              "      <th>functionality</th>\n",
              "      <th>outlier_weekly_sales</th>\n",
              "      <th>outlier_price</th>\n",
              "    </tr>\n",
              "  </thead>\n",
              "  <tbody>\n",
              "    <tr>\n",
              "      <th>9</th>\n",
              "      <td>2017-01-02</td>\n",
              "      <td>1</td>\n",
              "      <td>154</td>\n",
              "      <td>True</td>\n",
              "      <td>black</td>\n",
              "      <td>9.19</td>\n",
              "      <td>6</td>\n",
              "      <td>06.Mobile phone accessories</td>\n",
              "      <td>True</td>\n",
              "      <td>False</td>\n",
              "    </tr>\n",
              "    <tr>\n",
              "      <th>171</th>\n",
              "      <td>2018-03-12</td>\n",
              "      <td>2</td>\n",
              "      <td>52</td>\n",
              "      <td>False</td>\n",
              "      <td>blue</td>\n",
              "      <td>63.99</td>\n",
              "      <td>1</td>\n",
              "      <td>07.Headphones</td>\n",
              "      <td>True</td>\n",
              "      <td>False</td>\n",
              "    </tr>\n",
              "    <tr>\n",
              "      <th>202</th>\n",
              "      <td>2016-11-14</td>\n",
              "      <td>3</td>\n",
              "      <td>38</td>\n",
              "      <td>False</td>\n",
              "      <td>purple</td>\n",
              "      <td>73.02</td>\n",
              "      <td>1</td>\n",
              "      <td>07.Headphones</td>\n",
              "      <td>True</td>\n",
              "      <td>False</td>\n",
              "    </tr>\n",
              "    <tr>\n",
              "      <th>252</th>\n",
              "      <td>2017-10-30</td>\n",
              "      <td>3</td>\n",
              "      <td>2</td>\n",
              "      <td>False</td>\n",
              "      <td>purple</td>\n",
              "      <td>109.99</td>\n",
              "      <td>1</td>\n",
              "      <td>07.Headphones</td>\n",
              "      <td>True</td>\n",
              "      <td>False</td>\n",
              "    </tr>\n",
              "    <tr>\n",
              "      <th>300</th>\n",
              "      <td>2016-10-31</td>\n",
              "      <td>4</td>\n",
              "      <td>28</td>\n",
              "      <td>False</td>\n",
              "      <td>red</td>\n",
              "      <td>13.20</td>\n",
              "      <td>6</td>\n",
              "      <td>06.Mobile phone accessories</td>\n",
              "      <td>True</td>\n",
              "      <td>False</td>\n",
              "    </tr>\n",
              "    <tr>\n",
              "      <th>...</th>\n",
              "      <td>...</td>\n",
              "      <td>...</td>\n",
              "      <td>...</td>\n",
              "      <td>...</td>\n",
              "      <td>...</td>\n",
              "      <td>...</td>\n",
              "      <td>...</td>\n",
              "      <td>...</td>\n",
              "      <td>...</td>\n",
              "      <td>...</td>\n",
              "    </tr>\n",
              "    <tr>\n",
              "      <th>4044</th>\n",
              "      <td>2017-09-04</td>\n",
              "      <td>41</td>\n",
              "      <td>8</td>\n",
              "      <td>False</td>\n",
              "      <td>black</td>\n",
              "      <td>15.84</td>\n",
              "      <td>5</td>\n",
              "      <td>09.Smartphone stands</td>\n",
              "      <td>True</td>\n",
              "      <td>False</td>\n",
              "    </tr>\n",
              "    <tr>\n",
              "      <th>4137</th>\n",
              "      <td>2017-07-17</td>\n",
              "      <td>42</td>\n",
              "      <td>23</td>\n",
              "      <td>True</td>\n",
              "      <td>black</td>\n",
              "      <td>31.99</td>\n",
              "      <td>10</td>\n",
              "      <td>09.Smartphone stands</td>\n",
              "      <td>True</td>\n",
              "      <td>False</td>\n",
              "    </tr>\n",
              "    <tr>\n",
              "      <th>4268</th>\n",
              "      <td>2018-02-19</td>\n",
              "      <td>43</td>\n",
              "      <td>31</td>\n",
              "      <td>True</td>\n",
              "      <td>gold</td>\n",
              "      <td>119.99</td>\n",
              "      <td>9</td>\n",
              "      <td>11.Fitness trackers</td>\n",
              "      <td>True</td>\n",
              "      <td>False</td>\n",
              "    </tr>\n",
              "    <tr>\n",
              "      <th>4293</th>\n",
              "      <td>2018-08-13</td>\n",
              "      <td>43</td>\n",
              "      <td>0</td>\n",
              "      <td>True</td>\n",
              "      <td>gold</td>\n",
              "      <td>162.99</td>\n",
              "      <td>9</td>\n",
              "      <td>11.Fitness trackers</td>\n",
              "      <td>True</td>\n",
              "      <td>False</td>\n",
              "    </tr>\n",
              "    <tr>\n",
              "      <th>4393</th>\n",
              "      <td>2018-08-13</td>\n",
              "      <td>44</td>\n",
              "      <td>52</td>\n",
              "      <td>True</td>\n",
              "      <td>black</td>\n",
              "      <td>43.99</td>\n",
              "      <td>6</td>\n",
              "      <td>09.Smartphone stands</td>\n",
              "      <td>True</td>\n",
              "      <td>False</td>\n",
              "    </tr>\n",
              "  </tbody>\n",
              "</table>\n",
              "<p>75 rows × 10 columns</p>\n",
              "</div>\n",
              "      <button class=\"colab-df-convert\" onclick=\"convertToInteractive('df-1f9d8e59-6397-40dd-9bf8-e7b4f638283b')\"\n",
              "              title=\"Convert this dataframe to an interactive table.\"\n",
              "              style=\"display:none;\">\n",
              "        \n",
              "  <svg xmlns=\"http://www.w3.org/2000/svg\" height=\"24px\"viewBox=\"0 0 24 24\"\n",
              "       width=\"24px\">\n",
              "    <path d=\"M0 0h24v24H0V0z\" fill=\"none\"/>\n",
              "    <path d=\"M18.56 5.44l.94 2.06.94-2.06 2.06-.94-2.06-.94-.94-2.06-.94 2.06-2.06.94zm-11 1L8.5 8.5l.94-2.06 2.06-.94-2.06-.94L8.5 2.5l-.94 2.06-2.06.94zm10 10l.94 2.06.94-2.06 2.06-.94-2.06-.94-.94-2.06-.94 2.06-2.06.94z\"/><path d=\"M17.41 7.96l-1.37-1.37c-.4-.4-.92-.59-1.43-.59-.52 0-1.04.2-1.43.59L10.3 9.45l-7.72 7.72c-.78.78-.78 2.05 0 2.83L4 21.41c.39.39.9.59 1.41.59.51 0 1.02-.2 1.41-.59l7.78-7.78 2.81-2.81c.8-.78.8-2.07 0-2.86zM5.41 20L4 18.59l7.72-7.72 1.47 1.35L5.41 20z\"/>\n",
              "  </svg>\n",
              "      </button>\n",
              "      \n",
              "  <style>\n",
              "    .colab-df-container {\n",
              "      display:flex;\n",
              "      flex-wrap:wrap;\n",
              "      gap: 12px;\n",
              "    }\n",
              "\n",
              "    .colab-df-convert {\n",
              "      background-color: #E8F0FE;\n",
              "      border: none;\n",
              "      border-radius: 50%;\n",
              "      cursor: pointer;\n",
              "      display: none;\n",
              "      fill: #1967D2;\n",
              "      height: 32px;\n",
              "      padding: 0 0 0 0;\n",
              "      width: 32px;\n",
              "    }\n",
              "\n",
              "    .colab-df-convert:hover {\n",
              "      background-color: #E2EBFA;\n",
              "      box-shadow: 0px 1px 2px rgba(60, 64, 67, 0.3), 0px 1px 3px 1px rgba(60, 64, 67, 0.15);\n",
              "      fill: #174EA6;\n",
              "    }\n",
              "\n",
              "    [theme=dark] .colab-df-convert {\n",
              "      background-color: #3B4455;\n",
              "      fill: #D2E3FC;\n",
              "    }\n",
              "\n",
              "    [theme=dark] .colab-df-convert:hover {\n",
              "      background-color: #434B5C;\n",
              "      box-shadow: 0px 1px 3px 1px rgba(0, 0, 0, 0.15);\n",
              "      filter: drop-shadow(0px 1px 2px rgba(0, 0, 0, 0.3));\n",
              "      fill: #FFFFFF;\n",
              "    }\n",
              "  </style>\n",
              "\n",
              "      <script>\n",
              "        const buttonEl =\n",
              "          document.querySelector('#df-1f9d8e59-6397-40dd-9bf8-e7b4f638283b button.colab-df-convert');\n",
              "        buttonEl.style.display =\n",
              "          google.colab.kernel.accessAllowed ? 'block' : 'none';\n",
              "\n",
              "        async function convertToInteractive(key) {\n",
              "          const element = document.querySelector('#df-1f9d8e59-6397-40dd-9bf8-e7b4f638283b');\n",
              "          const dataTable =\n",
              "            await google.colab.kernel.invokeFunction('convertToInteractive',\n",
              "                                                     [key], {});\n",
              "          if (!dataTable) return;\n",
              "\n",
              "          const docLinkHtml = 'Like what you see? Visit the ' +\n",
              "            '<a target=\"_blank\" href=https://colab.research.google.com/notebooks/data_table.ipynb>data table notebook</a>'\n",
              "            + ' to learn more about interactive tables.';\n",
              "          element.innerHTML = '';\n",
              "          dataTable['output_type'] = 'display_data';\n",
              "          await google.colab.output.renderOutput(dataTable, element);\n",
              "          const docLink = document.createElement('div');\n",
              "          docLink.innerHTML = docLinkHtml;\n",
              "          element.appendChild(docLink);\n",
              "        }\n",
              "      </script>\n",
              "    </div>\n",
              "  </div>\n",
              "  "
            ]
          },
          "metadata": {},
          "execution_count": 8
        }
      ],
      "source": [
        "def outliers_quantile(data,features,low_cutoff=0.00000001,high_cutoff=0.99999999):\n",
        "    for f in features:\n",
        "        data['outlier_'+f] = data.groupby('sku')[f].transform(\n",
        "            lambda x:(x<(x.quantile(low_cutoff))) | (x>(x.quantile(high_cutoff)))\n",
        "            )\n",
        "    return data\n",
        "data_1 = outliers_quantile(data_raw,['weekly_sales','price'])\n",
        "data_1[data_1.outlier_weekly_sales]"
      ]
    },
    {
      "cell_type": "code",
      "execution_count": 9,
      "metadata": {
        "colab": {
          "base_uri": "https://localhost:8080/",
          "height": 661
        },
        "id": "NGowPQUVe_z7",
        "outputId": "cb82341c-2f85-4b05-94bb-9c52b318c679"
      },
      "outputs": [
        {
          "output_type": "execute_result",
          "data": {
            "text/plain": [
              "           week  sku  weekly_sales  feat_main_page   color   price  vendor  \\\n",
              "3    2016-11-21    1           127            True   black    8.27       6   \n",
              "116  2017-02-20    2             2           False    blue   30.99       1   \n",
              "123  2017-04-10    2             6           False    blue   75.99       1   \n",
              "216  2017-02-20    3             9           False  purple   54.99       1   \n",
              "284  2018-06-11    3            20           False  purple  111.19       1   \n",
              "...         ...  ...           ...             ...     ...     ...     ...   \n",
              "4132 2017-06-12   42             3           False   black   87.98      10   \n",
              "4136 2017-07-10   42             8           False   black   25.58      10   \n",
              "4238 2017-07-24   43             7           False    gold   74.99       9   \n",
              "4310 2017-01-09   44            10            True   black   30.60       6   \n",
              "4376 2018-04-16   44             2            True   black  112.83       6   \n",
              "\n",
              "                    functionality  outlier_weekly_sales  outlier_price  \n",
              "3     06.Mobile phone accessories                 False           True  \n",
              "116                 07.Headphones                 False           True  \n",
              "123                 07.Headphones                 False           True  \n",
              "216                 07.Headphones                 False           True  \n",
              "284                 07.Headphones                 False           True  \n",
              "...                           ...                   ...            ...  \n",
              "4132         09.Smartphone stands                 False           True  \n",
              "4136         09.Smartphone stands                 False           True  \n",
              "4238          11.Fitness trackers                 False           True  \n",
              "4310         09.Smartphone stands                 False           True  \n",
              "4376         09.Smartphone stands                 False           True  \n",
              "\n",
              "[79 rows x 10 columns]"
            ],
            "text/html": [
              "\n",
              "  <div id=\"df-89c9c0e8-e6db-4cc7-8da8-3473faf1b95e\">\n",
              "    <div class=\"colab-df-container\">\n",
              "      <div>\n",
              "<style scoped>\n",
              "    .dataframe tbody tr th:only-of-type {\n",
              "        vertical-align: middle;\n",
              "    }\n",
              "\n",
              "    .dataframe tbody tr th {\n",
              "        vertical-align: top;\n",
              "    }\n",
              "\n",
              "    .dataframe thead th {\n",
              "        text-align: right;\n",
              "    }\n",
              "</style>\n",
              "<table border=\"1\" class=\"dataframe\">\n",
              "  <thead>\n",
              "    <tr style=\"text-align: right;\">\n",
              "      <th></th>\n",
              "      <th>week</th>\n",
              "      <th>sku</th>\n",
              "      <th>weekly_sales</th>\n",
              "      <th>feat_main_page</th>\n",
              "      <th>color</th>\n",
              "      <th>price</th>\n",
              "      <th>vendor</th>\n",
              "      <th>functionality</th>\n",
              "      <th>outlier_weekly_sales</th>\n",
              "      <th>outlier_price</th>\n",
              "    </tr>\n",
              "  </thead>\n",
              "  <tbody>\n",
              "    <tr>\n",
              "      <th>3</th>\n",
              "      <td>2016-11-21</td>\n",
              "      <td>1</td>\n",
              "      <td>127</td>\n",
              "      <td>True</td>\n",
              "      <td>black</td>\n",
              "      <td>8.27</td>\n",
              "      <td>6</td>\n",
              "      <td>06.Mobile phone accessories</td>\n",
              "      <td>False</td>\n",
              "      <td>True</td>\n",
              "    </tr>\n",
              "    <tr>\n",
              "      <th>116</th>\n",
              "      <td>2017-02-20</td>\n",
              "      <td>2</td>\n",
              "      <td>2</td>\n",
              "      <td>False</td>\n",
              "      <td>blue</td>\n",
              "      <td>30.99</td>\n",
              "      <td>1</td>\n",
              "      <td>07.Headphones</td>\n",
              "      <td>False</td>\n",
              "      <td>True</td>\n",
              "    </tr>\n",
              "    <tr>\n",
              "      <th>123</th>\n",
              "      <td>2017-04-10</td>\n",
              "      <td>2</td>\n",
              "      <td>6</td>\n",
              "      <td>False</td>\n",
              "      <td>blue</td>\n",
              "      <td>75.99</td>\n",
              "      <td>1</td>\n",
              "      <td>07.Headphones</td>\n",
              "      <td>False</td>\n",
              "      <td>True</td>\n",
              "    </tr>\n",
              "    <tr>\n",
              "      <th>216</th>\n",
              "      <td>2017-02-20</td>\n",
              "      <td>3</td>\n",
              "      <td>9</td>\n",
              "      <td>False</td>\n",
              "      <td>purple</td>\n",
              "      <td>54.99</td>\n",
              "      <td>1</td>\n",
              "      <td>07.Headphones</td>\n",
              "      <td>False</td>\n",
              "      <td>True</td>\n",
              "    </tr>\n",
              "    <tr>\n",
              "      <th>284</th>\n",
              "      <td>2018-06-11</td>\n",
              "      <td>3</td>\n",
              "      <td>20</td>\n",
              "      <td>False</td>\n",
              "      <td>purple</td>\n",
              "      <td>111.19</td>\n",
              "      <td>1</td>\n",
              "      <td>07.Headphones</td>\n",
              "      <td>False</td>\n",
              "      <td>True</td>\n",
              "    </tr>\n",
              "    <tr>\n",
              "      <th>...</th>\n",
              "      <td>...</td>\n",
              "      <td>...</td>\n",
              "      <td>...</td>\n",
              "      <td>...</td>\n",
              "      <td>...</td>\n",
              "      <td>...</td>\n",
              "      <td>...</td>\n",
              "      <td>...</td>\n",
              "      <td>...</td>\n",
              "      <td>...</td>\n",
              "    </tr>\n",
              "    <tr>\n",
              "      <th>4132</th>\n",
              "      <td>2017-06-12</td>\n",
              "      <td>42</td>\n",
              "      <td>3</td>\n",
              "      <td>False</td>\n",
              "      <td>black</td>\n",
              "      <td>87.98</td>\n",
              "      <td>10</td>\n",
              "      <td>09.Smartphone stands</td>\n",
              "      <td>False</td>\n",
              "      <td>True</td>\n",
              "    </tr>\n",
              "    <tr>\n",
              "      <th>4136</th>\n",
              "      <td>2017-07-10</td>\n",
              "      <td>42</td>\n",
              "      <td>8</td>\n",
              "      <td>False</td>\n",
              "      <td>black</td>\n",
              "      <td>25.58</td>\n",
              "      <td>10</td>\n",
              "      <td>09.Smartphone stands</td>\n",
              "      <td>False</td>\n",
              "      <td>True</td>\n",
              "    </tr>\n",
              "    <tr>\n",
              "      <th>4238</th>\n",
              "      <td>2017-07-24</td>\n",
              "      <td>43</td>\n",
              "      <td>7</td>\n",
              "      <td>False</td>\n",
              "      <td>gold</td>\n",
              "      <td>74.99</td>\n",
              "      <td>9</td>\n",
              "      <td>11.Fitness trackers</td>\n",
              "      <td>False</td>\n",
              "      <td>True</td>\n",
              "    </tr>\n",
              "    <tr>\n",
              "      <th>4310</th>\n",
              "      <td>2017-01-09</td>\n",
              "      <td>44</td>\n",
              "      <td>10</td>\n",
              "      <td>True</td>\n",
              "      <td>black</td>\n",
              "      <td>30.60</td>\n",
              "      <td>6</td>\n",
              "      <td>09.Smartphone stands</td>\n",
              "      <td>False</td>\n",
              "      <td>True</td>\n",
              "    </tr>\n",
              "    <tr>\n",
              "      <th>4376</th>\n",
              "      <td>2018-04-16</td>\n",
              "      <td>44</td>\n",
              "      <td>2</td>\n",
              "      <td>True</td>\n",
              "      <td>black</td>\n",
              "      <td>112.83</td>\n",
              "      <td>6</td>\n",
              "      <td>09.Smartphone stands</td>\n",
              "      <td>False</td>\n",
              "      <td>True</td>\n",
              "    </tr>\n",
              "  </tbody>\n",
              "</table>\n",
              "<p>79 rows × 10 columns</p>\n",
              "</div>\n",
              "      <button class=\"colab-df-convert\" onclick=\"convertToInteractive('df-89c9c0e8-e6db-4cc7-8da8-3473faf1b95e')\"\n",
              "              title=\"Convert this dataframe to an interactive table.\"\n",
              "              style=\"display:none;\">\n",
              "        \n",
              "  <svg xmlns=\"http://www.w3.org/2000/svg\" height=\"24px\"viewBox=\"0 0 24 24\"\n",
              "       width=\"24px\">\n",
              "    <path d=\"M0 0h24v24H0V0z\" fill=\"none\"/>\n",
              "    <path d=\"M18.56 5.44l.94 2.06.94-2.06 2.06-.94-2.06-.94-.94-2.06-.94 2.06-2.06.94zm-11 1L8.5 8.5l.94-2.06 2.06-.94-2.06-.94L8.5 2.5l-.94 2.06-2.06.94zm10 10l.94 2.06.94-2.06 2.06-.94-2.06-.94-.94-2.06-.94 2.06-2.06.94z\"/><path d=\"M17.41 7.96l-1.37-1.37c-.4-.4-.92-.59-1.43-.59-.52 0-1.04.2-1.43.59L10.3 9.45l-7.72 7.72c-.78.78-.78 2.05 0 2.83L4 21.41c.39.39.9.59 1.41.59.51 0 1.02-.2 1.41-.59l7.78-7.78 2.81-2.81c.8-.78.8-2.07 0-2.86zM5.41 20L4 18.59l7.72-7.72 1.47 1.35L5.41 20z\"/>\n",
              "  </svg>\n",
              "      </button>\n",
              "      \n",
              "  <style>\n",
              "    .colab-df-container {\n",
              "      display:flex;\n",
              "      flex-wrap:wrap;\n",
              "      gap: 12px;\n",
              "    }\n",
              "\n",
              "    .colab-df-convert {\n",
              "      background-color: #E8F0FE;\n",
              "      border: none;\n",
              "      border-radius: 50%;\n",
              "      cursor: pointer;\n",
              "      display: none;\n",
              "      fill: #1967D2;\n",
              "      height: 32px;\n",
              "      padding: 0 0 0 0;\n",
              "      width: 32px;\n",
              "    }\n",
              "\n",
              "    .colab-df-convert:hover {\n",
              "      background-color: #E2EBFA;\n",
              "      box-shadow: 0px 1px 2px rgba(60, 64, 67, 0.3), 0px 1px 3px 1px rgba(60, 64, 67, 0.15);\n",
              "      fill: #174EA6;\n",
              "    }\n",
              "\n",
              "    [theme=dark] .colab-df-convert {\n",
              "      background-color: #3B4455;\n",
              "      fill: #D2E3FC;\n",
              "    }\n",
              "\n",
              "    [theme=dark] .colab-df-convert:hover {\n",
              "      background-color: #434B5C;\n",
              "      box-shadow: 0px 1px 3px 1px rgba(0, 0, 0, 0.15);\n",
              "      filter: drop-shadow(0px 1px 2px rgba(0, 0, 0, 0.3));\n",
              "      fill: #FFFFFF;\n",
              "    }\n",
              "  </style>\n",
              "\n",
              "      <script>\n",
              "        const buttonEl =\n",
              "          document.querySelector('#df-89c9c0e8-e6db-4cc7-8da8-3473faf1b95e button.colab-df-convert');\n",
              "        buttonEl.style.display =\n",
              "          google.colab.kernel.accessAllowed ? 'block' : 'none';\n",
              "\n",
              "        async function convertToInteractive(key) {\n",
              "          const element = document.querySelector('#df-89c9c0e8-e6db-4cc7-8da8-3473faf1b95e');\n",
              "          const dataTable =\n",
              "            await google.colab.kernel.invokeFunction('convertToInteractive',\n",
              "                                                     [key], {});\n",
              "          if (!dataTable) return;\n",
              "\n",
              "          const docLinkHtml = 'Like what you see? Visit the ' +\n",
              "            '<a target=\"_blank\" href=https://colab.research.google.com/notebooks/data_table.ipynb>data table notebook</a>'\n",
              "            + ' to learn more about interactive tables.';\n",
              "          element.innerHTML = '';\n",
              "          dataTable['output_type'] = 'display_data';\n",
              "          await google.colab.output.renderOutput(dataTable, element);\n",
              "          const docLink = document.createElement('div');\n",
              "          docLink.innerHTML = docLinkHtml;\n",
              "          element.appendChild(docLink);\n",
              "        }\n",
              "      </script>\n",
              "    </div>\n",
              "  </div>\n",
              "  "
            ]
          },
          "metadata": {},
          "execution_count": 9
        }
      ],
      "source": [
        "data_1[data_1.outlier_price]"
      ]
    },
    {
      "cell_type": "code",
      "execution_count": 10,
      "metadata": {
        "id": "cY5nfnfisn9h"
      },
      "outputs": [],
      "source": [
        "data_1.to_csv('data_processed.csv',index=False)"
      ]
    },
    {
      "cell_type": "markdown",
      "metadata": {
        "id": "_29AXBVWJ3o2"
      },
      "source": [
        "#3 Time Series Model\n",
        "Since this is time series data, I consider either using ARIMA or SARIMA model.\n",
        "##3.1 Assessing Seasonality"
      ]
    },
    {
      "cell_type": "code",
      "execution_count": 11,
      "metadata": {
        "id": "dMhuvDavLVxL"
      },
      "outputs": [],
      "source": [
        "data = pd.read_csv('data_processed.csv', parse_dates=['week'], index_col='week')"
      ]
    },
    {
      "cell_type": "code",
      "execution_count": 12,
      "metadata": {
        "id": "fxYkPXZTITmp"
      },
      "outputs": [],
      "source": [
        "sku = {}\n",
        "for i in range(1,45):\n",
        "    sku[i] = pd.DataFrame(data[data['sku']==i]['weekly_sales'],columns = ['weekly_sales'])"
      ]
    },
    {
      "cell_type": "markdown",
      "metadata": {
        "id": "AAKIU7LstoAD"
      },
      "source": [
        "Remove the trend to see the seasonal pattern more obviously"
      ]
    },
    {
      "cell_type": "code",
      "execution_count": 13,
      "metadata": {
        "colab": {
          "base_uri": "https://localhost:8080/",
          "height": 796
        },
        "id": "7B9DuZs6HxWP",
        "outputId": "0c4032ce-1f2a-46c7-80be-5d189f93efc9"
      },
      "outputs": [
        {
          "output_type": "display_data",
          "data": {
            "text/plain": [
              "<Figure size 720x864 with 4 Axes>"
            ],
            "image/png": "[encoded data removed]"
          },
          "metadata": {
            "needs_background": "light"
          }
        }
      ],
      "source": [
        "result = seasonal_decompose(sku[11], model='multiplicative',period=50)\n",
        "fig = result.plot()\n",
        "fig.set_size_inches(10, 12)"
      ]
    },
    {
      "cell_type": "markdown",
      "metadata": {
        "id": "NoWQjAUUuLMx"
      },
      "source": [
        "Looking at the seasonal chart, it suggests that there is a yearly seasonal cycle, so I choice SARIMA model"
      ]
    },
    {
      "cell_type": "markdown",
      "metadata": {
        "id": "01BemwICvG5p"
      },
      "source": [
        "##3.2 Assessing Stationary"
      ]
    },
    {
      "cell_type": "markdown",
      "metadata": {
        "id": "Az3aSVl3vl6V"
      },
      "source": [
        "In order to apply SARIMA model, we need to assess the stationary assumption of the data.\n",
        "I use Augmented Dickey Fuller test ( ADF Test), a common statistical test used to test whether a given Time series is stationary or not. "
      ]
    },
    {
      "cell_type": "code",
      "execution_count": 14,
      "metadata": {
        "id": "2F74tdIKHxT5"
      },
      "outputs": [],
      "source": [
        "def adfuller_test(sku,i):\n",
        "    print(\"SKU {}\".format(i))\n",
        "    x = sku[i]['weekly_sales']\n",
        "    result = adfuller(x)\n",
        "    labels = ['ADF Test Statistic','p-value']\n",
        "    for value,label in zip(result,labels):\n",
        "        print(label+' : '+str(value) )\n",
        "    if result[1] <= 0.05:\n",
        "        print(\"Data is stationary\")\n",
        "    else:\n",
        "        print(\"Data is non-stationary \")"
      ]
    },
    {
      "cell_type": "code",
      "execution_count": 15,
      "metadata": {
        "colab": {
          "base_uri": "https://localhost:8080/"
        },
        "id": "UmsvYBUQMgbJ",
        "outputId": "9f17a54f-6016-4eb0-f996-83bb85d42167"
      },
      "outputs": [
        {
          "output_type": "stream",
          "name": "stdout",
          "text": [
            "SKU 1\n",
            "ADF Test Statistic : -4.4726704549629215\n",
            "p-value : 0.00022025012134457673\n",
            "Data is stationary\n",
            "SKU 2\n",
            "ADF Test Statistic : -3.7106808532609383\n",
            "p-value : 0.003965402173771292\n",
            "Data is stationary\n",
            "SKU 3\n",
            "ADF Test Statistic : -2.217787735599355\n",
            "p-value : 0.19985299102137627\n",
            "Data is non-stationary \n",
            "SKU 4\n",
            "ADF Test Statistic : -2.200113698769432\n",
            "p-value : 0.20620419334657386\n",
            "Data is non-stationary \n",
            "SKU 5\n",
            "ADF Test Statistic : -3.4986751121526787\n",
            "p-value : 0.008021185253305727\n",
            "Data is stationary\n",
            "SKU 6\n",
            "ADF Test Statistic : -3.080160365968314\n",
            "p-value : 0.028056676409990815\n",
            "Data is stationary\n",
            "SKU 7\n",
            "ADF Test Statistic : -0.04998285179091249\n",
            "p-value : 0.9541981193002773\n",
            "Data is non-stationary \n",
            "SKU 8\n",
            "ADF Test Statistic : -3.3463691565619516\n",
            "p-value : 0.012928797897232457\n",
            "Data is stationary\n",
            "SKU 9\n",
            "ADF Test Statistic : -2.8359716321970807\n",
            "p-value : 0.053316345819100636\n",
            "Data is non-stationary \n",
            "SKU 10\n",
            "ADF Test Statistic : 0.9783791752127873\n",
            "p-value : 0.9940325036106605\n",
            "Data is non-stationary \n",
            "SKU 11\n",
            "ADF Test Statistic : -7.317692779757131\n",
            "p-value : 1.217047032987833e-10\n",
            "Data is stationary\n",
            "SKU 12\n",
            "ADF Test Statistic : -8.789686539102375\n",
            "p-value : 2.258190003104759e-14\n",
            "Data is stationary\n",
            "SKU 13\n",
            "ADF Test Statistic : -9.550676612182603\n",
            "p-value : 2.576968148638428e-16\n",
            "Data is stationary\n",
            "SKU 14\n",
            "ADF Test Statistic : -2.274745962253871\n",
            "p-value : 0.18024228927254848\n",
            "Data is non-stationary \n",
            "SKU 15\n",
            "ADF Test Statistic : -10.110356799704046\n",
            "p-value : 1.0041228271910404e-17\n",
            "Data is stationary\n",
            "SKU 16\n",
            "ADF Test Statistic : -8.186823781054638\n",
            "p-value : 7.858800334227034e-13\n",
            "Data is stationary\n",
            "SKU 17\n",
            "ADF Test Statistic : -3.7958759929241626\n",
            "p-value : 0.0029497919335462197\n",
            "Data is stationary\n",
            "SKU 18\n",
            "ADF Test Statistic : -5.786043959666142\n",
            "p-value : 4.996778247994715e-07\n",
            "Data is stationary\n",
            "SKU 19\n",
            "ADF Test Statistic : -9.398254110468718\n",
            "p-value : 6.288465481280985e-16\n",
            "Data is stationary\n",
            "SKU 20\n",
            "ADF Test Statistic : -3.5573985122406024\n",
            "p-value : 0.006629695124814612\n",
            "Data is stationary\n",
            "SKU 21\n",
            "ADF Test Statistic : -3.411354657577993\n",
            "p-value : 0.010577828926901718\n",
            "Data is stationary\n",
            "SKU 22\n",
            "ADF Test Statistic : -2.483235437279121\n",
            "p-value : 0.11960678939459723\n",
            "Data is non-stationary \n",
            "SKU 23\n",
            "ADF Test Statistic : -1.1759882379425977\n",
            "p-value : 0.6838387507801661\n",
            "Data is non-stationary \n",
            "SKU 24\n",
            "ADF Test Statistic : 0.3164288426232658\n",
            "p-value : 0.9780858029832256\n",
            "Data is non-stationary \n",
            "SKU 25\n",
            "ADF Test Statistic : -3.4154785144816713\n",
            "p-value : 0.010442392342512588\n",
            "Data is stationary\n",
            "SKU 26\n",
            "ADF Test Statistic : -5.12220484102358\n",
            "p-value : 1.2647095514309375e-05\n",
            "Data is stationary\n",
            "SKU 27\n",
            "ADF Test Statistic : -0.587942875491096\n",
            "p-value : 0.873683234647068\n",
            "Data is non-stationary \n",
            "SKU 28\n",
            "ADF Test Statistic : -2.2991521440217855\n",
            "p-value : 0.17224156775767657\n",
            "Data is non-stationary \n",
            "SKU 29\n",
            "ADF Test Statistic : -9.954338823964767\n",
            "p-value : 2.4669194506677805e-17\n",
            "Data is stationary\n",
            "SKU 30\n",
            "ADF Test Statistic : -7.055783346102146\n",
            "p-value : 5.380001397840534e-10\n",
            "Data is stationary\n",
            "SKU 31\n",
            "ADF Test Statistic : -9.655999412556497\n",
            "p-value : 1.3936681412127111e-16\n",
            "Data is stationary\n",
            "SKU 32\n",
            "ADF Test Statistic : -1.21069293060015\n",
            "p-value : 0.6689790514331702\n",
            "Data is non-stationary \n",
            "SKU 33\n",
            "ADF Test Statistic : -1.4629354089171704\n",
            "p-value : 0.5517605526512748\n",
            "Data is non-stationary \n",
            "SKU 34\n",
            "ADF Test Statistic : -5.983655102935532\n",
            "p-value : 1.8135408686163174e-07\n",
            "Data is stationary\n",
            "SKU 35\n",
            "ADF Test Statistic : -3.0740765372736547\n",
            "p-value : 0.028532076982436348\n",
            "Data is stationary\n",
            "SKU 36\n",
            "ADF Test Statistic : -5.927121074295977\n",
            "p-value : 2.428875870115566e-07\n",
            "Data is stationary\n",
            "SKU 37\n",
            "ADF Test Statistic : -3.236000927314547\n",
            "p-value : 0.017993115512127036\n",
            "Data is stationary\n",
            "SKU 38\n",
            "ADF Test Statistic : -4.13815415786676\n",
            "p-value : 0.0008370518085880432\n",
            "Data is stationary\n",
            "SKU 39\n",
            "ADF Test Statistic : -9.784058819670918\n",
            "p-value : 6.615415359382532e-17\n",
            "Data is stationary\n",
            "SKU 40\n",
            "ADF Test Statistic : -3.6510984147287124\n",
            "p-value : 0.004856010372127281\n",
            "Data is stationary\n",
            "SKU 41\n",
            "ADF Test Statistic : -1.9698757475096944\n",
            "p-value : 0.29993568461577247\n",
            "Data is non-stationary \n",
            "SKU 42\n",
            "ADF Test Statistic : -2.9839183354063383\n",
            "p-value : 0.036423763325527256\n",
            "Data is stationary\n",
            "SKU 43\n",
            "ADF Test Statistic : -6.182025436289861\n",
            "p-value : 6.420812477120849e-08\n",
            "Data is stationary\n",
            "SKU 44\n",
            "ADF Test Statistic : -2.1194375329509385\n",
            "p-value : 0.23677083912822455\n",
            "Data is non-stationary \n"
          ]
        }
      ],
      "source": [
        "for i in range(1,45):\n",
        "    adfuller_test(sku,i)"
      ]
    },
    {
      "cell_type": "markdown",
      "metadata": {
        "id": "CpsEkEI3RkkV"
      },
      "source": [
        "Some SKUs are stationary, some are not. So we will set d from 0 to 2."
      ]
    },
    {
      "cell_type": "markdown",
      "metadata": {
        "id": "3VGEoO7Z0EFO"
      },
      "source": [
        "##3.3 Set-up parameters"
      ]
    },
    {
      "cell_type": "markdown",
      "metadata": {
        "id": "kaMHINP_1FEj"
      },
      "source": [
        "To identify the best parameters, I use Akaike information criterion (AIC). It uses grid search and AIC index to find the best model for the data"
      ]
    },
    {
      "cell_type": "code",
      "execution_count": 16,
      "metadata": {
        "id": "cGdfHb7tyJuX"
      },
      "outputs": [],
      "source": [
        "train_data, test_data = {}, {}\n",
        "for i in range(1,45):\n",
        "    train_data[i], test_data[i] = sku[i][0:(len(sku[i])-12)], sku[i][(len(sku[i])-12):]"
      ]
    },
    {
      "cell_type": "code",
      "execution_count": 17,
      "metadata": {
        "id": "ciABOunBHxRk",
        "colab": {
          "base_uri": "https://localhost:8080/"
        },
        "outputId": "e087ed38-55fb-45b2-9fd7-fed8c4ade095"
      },
      "outputs": [
        {
          "output_type": "stream",
          "name": "stderr",
          "text": [
            " 14%|█▎        | 6/44 [01:31<08:00, 12.64s/it]/usr/local/lib/python3.8/dist-packages/pmdarima/arima/utils.py:117: UserWarning: Appropriate D value may not have been reached; length of seasonally-differenced array (38) is shorter than m (50). Using D=1\n",
            "  warnings.warn(\"Appropriate D value may not have been reached; \"\n",
            " 41%|████      | 18/44 [04:24<04:23, 10.13s/it]/usr/local/lib/python3.8/dist-packages/pmdarima/arima/utils.py:117: UserWarning: Appropriate D value may not have been reached; length of seasonally-differenced array (38) is shorter than m (50). Using D=1\n",
            "  warnings.warn(\"Appropriate D value may not have been reached; \"\n",
            " 43%|████▎     | 19/44 [06:06<15:47, 37.90s/it]/usr/local/lib/python3.8/dist-packages/pmdarima/arima/utils.py:117: UserWarning: Appropriate D value may not have been reached; length of seasonally-differenced array (38) is shorter than m (50). Using D=1\n",
            "  warnings.warn(\"Appropriate D value may not have been reached; \"\n",
            " 73%|███████▎  | 32/44 [13:57<03:49, 19.09s/it]/usr/local/lib/python3.8/dist-packages/pmdarima/arima/utils.py:117: UserWarning: Appropriate D value may not have been reached; length of seasonally-differenced array (38) is shorter than m (50). Using D=1\n",
            "  warnings.warn(\"Appropriate D value may not have been reached; \"\n",
            " 82%|████████▏ | 36/44 [22:14<16:04, 120.61s/it]/usr/local/lib/python3.8/dist-packages/pmdarima/arima/utils.py:117: UserWarning: Appropriate D value may not have been reached; length of seasonally-differenced array (38) is shorter than m (50). Using D=1\n",
            "  warnings.warn(\"Appropriate D value may not have been reached; \"\n",
            " 86%|████████▋ | 38/44 [22:58<06:56, 69.40s/it]/usr/local/lib/python3.8/dist-packages/pmdarima/arima/utils.py:117: UserWarning: Appropriate D value may not have been reached; length of seasonally-differenced array (38) is shorter than m (50). Using D=1\n",
            "  warnings.warn(\"Appropriate D value may not have been reached; \"\n",
            "100%|██████████| 44/44 [26:58<00:00, 36.78s/it]\n"
          ]
        }
      ],
      "source": [
        "model_sarima = {}\n",
        "from tqdm import tqdm\n",
        "for i in tqdm(range(1,45)):\n",
        "    model_sarima[i] = pm.auto_arima(train_data[i].weekly_sales, test='adf',\n",
        "                            m=50, d=None,max_d=2,\n",
        "                            seasonal=True, trace=False, error_action='ignore',  \n",
        "                            suppress_warnings=True, stepwise=True)"
      ]
    },
    {
      "cell_type": "markdown",
      "metadata": {
        "id": "pID629Ro-jwp"
      },
      "source": [
        "#4. Prediction & Monitoring\n",
        "##4.1 Prediction"
      ]
    },
    {
      "cell_type": "code",
      "source": [
        "n_pred_period = 4*3 # predict for 3 months look ahead"
      ],
      "metadata": {
        "id": "2SAam3or7qaC"
      },
      "execution_count": 18,
      "outputs": []
    },
    {
      "cell_type": "code",
      "execution_count": 19,
      "metadata": {
        "id": "b_7cJfqm_DHX"
      },
      "outputs": [],
      "source": [
        "predict, confint, predict_ser = {}, {}, {}\n",
        "for i in range(1,45):\n",
        "    predict[i], confint[i] = model_sarima[i].predict(n_periods=n_pred_period, return_conf_int=True)\n",
        "    predict_ser[i] = pd.DataFrame(predict[i])"
      ]
    },
    {
      "cell_type": "markdown",
      "source": [
        "Save the data"
      ],
      "metadata": {
        "id": "qWxMRPxi6t1r"
      }
    },
    {
      "cell_type": "code",
      "source": [
        "import pickle\n",
        "pickle.dump(sku, open('sku.p', 'wb'))\n",
        "pickle.dump(train_data, open('train_data.p', 'wb'))\n",
        "pickle.dump(test_data, open('test_data.p', 'wb'))\n",
        "pickle.dump(predict_ser, open('predict_ser.p', 'wb'))\n",
        "pickle.dump(confint, open('confint.p', 'wb'))"
      ],
      "metadata": {
        "id": "mszi2IqW46GI"
      },
      "execution_count": 33,
      "outputs": []
    },
    {
      "cell_type": "markdown",
      "source": [
        "Load the data"
      ],
      "metadata": {
        "id": "UTUfHtFw6xcs"
      }
    },
    {
      "cell_type": "code",
      "source": [
        "import pickle\n",
        "sku = pickle.load(open('sku.p', 'rb'))\n",
        "train_data = pickle.load(open('train_data.p', 'rb'))\n",
        "test_data = pickle.load(open('test_data.p', 'rb'))\n",
        "predict_ser = pickle.load(open('predict_ser.p', 'rb'))\n",
        "confint = pickle.load(open('confint.p', 'rb'))"
      ],
      "metadata": {
        "id": "SmQzTZdNFid7"
      },
      "execution_count": 34,
      "outputs": []
    },
    {
      "cell_type": "code",
      "execution_count": 20,
      "metadata": {
        "id": "WDKSjBevAL17"
      },
      "outputs": [],
      "source": [
        "def plot_sku(sku,i):\n",
        "    plt.figure(figsize=(16, 6))\n",
        "    plt.plot(sku[i][:len(train_data[i])+1],color='chocolate',\n",
        "             marker='o', markersize=3.5,label='Actual Sales (Training)')\n",
        "    plt.plot(sku[i][len(train_data[i]):len(train_data[i])+n_pred_period],color='skyblue',\n",
        "            linestyle='dotted',marker='o',markersize=3.5,label='Actual Sales (Testing)')\n",
        "    plt.plot(predict_ser[i], linestyle='dashdot', \n",
        "             marker='o',markersize=3.5,label = 'Predicted Sale',color='red')\n",
        "    lower = confint[i][:, 0]\n",
        "    upper = confint[i][:, 1]\n",
        "    plt.fill_between(predict_ser[i].index, lower, upper, color='lightgrey', alpha=0.2)\n",
        "    plt.legend()\n",
        "    plt.title('SARIMA Regression Model Forecast for 3 Months Look Ahead - SKU {}'.format(i))\n",
        "    plt.show()"
      ]
    },
    {
      "cell_type": "code",
      "source": [
        "plot_sku(sku,2)"
      ],
      "metadata": {
        "colab": {
          "base_uri": "https://localhost:8080/",
          "height": 371
        },
        "id": "_LVDvpWnnSFQ",
        "outputId": "16225f39-6a50-40e3-efd4-7eab844d7cec"
      },
      "execution_count": 37,
      "outputs": [
        {
          "output_type": "display_data",
          "data": {
            "text/plain": [
              "<Figure size 1152x432 with 1 Axes>"
            ],
            "image/png": "[encoded data removed]"
          },
          "metadata": {
            "needs_background": "light"
          }
        }
      ]
    },
    {
      "cell_type": "code",
      "source": [
        "plot_sku(sku,11)"
      ],
      "metadata": {
        "colab": {
          "base_uri": "https://localhost:8080/",
          "height": 371
        },
        "id": "cRoa_M0v4eaI",
        "outputId": "93b12bec-d432-48b1-e7f6-ef3250b47528"
      },
      "execution_count": 36,
      "outputs": [
        {
          "output_type": "display_data",
          "data": {
            "text/plain": [
              "<Figure size 1152x432 with 1 Axes>"
            ],
            "image/png": "[encoded data removed]"
          },
          "metadata": {
            "needs_background": "light"
          }
        }
      ]
    },
    {
      "cell_type": "markdown",
      "metadata": {
        "id": "ypYK5C0_JWvS"
      },
      "source": [
        "##4.2 Monitoring of Model Performance"
      ]
    },
    {
      "cell_type": "code",
      "execution_count": 31,
      "metadata": {
        "id": "859rNzeUJVCw"
      },
      "outputs": [],
      "source": [
        "def measure_metric(test_data, predict_ser,i):\n",
        "  y = pd.DataFrame.to_numpy(test_data[i][:n_pred_period]).squeeze()\n",
        "  yhat = pd.DataFrame.to_numpy(predict_ser[i]).squeeze()\n",
        "  e = y-yhat\n",
        "  mape=np.mean(e/y)*100\n",
        "  return 'Mean Absolute Percentage Error: {:.2f} %'.format(mape)"
      ]
    },
    {
      "cell_type": "code",
      "execution_count": 32,
      "metadata": {
        "colab": {
          "base_uri": "https://localhost:8080/",
          "height": 35
        },
        "id": "VLAC02xEJo7Z",
        "outputId": "cd68abac-815e-4415-ebf2-388e7f2f7624"
      },
      "outputs": [
        {
          "output_type": "execute_result",
          "data": {
            "text/plain": [
              "'Mean Absolute Percentage Error: 8.31 %'"
            ],
            "application/vnd.google.colaboratory.intrinsic+json": {
              "type": "string"
            }
          },
          "metadata": {},
          "execution_count": 32
        }
      ],
      "source": [
        "measure_metric(test_data, predict_ser,11)"
      ]
    }
  ],
  "metadata": {
    "colab": {
      "provenance": []
    },
    "kernelspec": {
      "display_name": "Python 3",
      "name": "python3"
    },
    "language_info": {
      "name": "python"
    }
  },
  "nbformat": 4,
  "nbformat_minor": 0
}